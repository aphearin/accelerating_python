{
 "cells": [
  {
   "cell_type": "markdown",
   "metadata": {},
   "source": [
    "# Experimenting with Cython "
   ]
  },
  {
   "cell_type": "markdown",
   "metadata": {},
   "source": [
    "Here are a few example cells showing some of the basics of how to declare variables in Cython. This is not at all comprehensive, but is intended to give you a basis for your own syntax experimentation as you learn the ropes. "
   ]
  },
  {
   "cell_type": "code",
   "execution_count": 1,
   "metadata": {
    "collapsed": true
   },
   "outputs": [],
   "source": [
    "%load_ext Cython"
   ]
  },
  {
   "cell_type": "markdown",
   "metadata": {},
   "source": [
    "The following code shows how to consistently declare typed memoryviews and numpy arrays. The `trivial_func` does not compute anything useful, it's just acting as a placeholder for you to play around with. Try messing with the values of the `dtype` and/or the double/int/float declarations to see how things work. "
   ]
  },
  {
   "cell_type": "code",
   "execution_count": 9,
   "metadata": {},
   "outputs": [],
   "source": [
    "%%cython \n",
    "\n",
    "import numpy as np \n",
    "\n",
    "def trivial_func(double[:] x):\n",
    "    cdef double[:] y = np.zeros(5, dtype='f8')\n",
    "    cdef int[:] z = np.ones(5, dtype='i4')\n",
    "    return x[0] + y[0] + z[0]"
   ]
  },
  {
   "cell_type": "code",
   "execution_count": 10,
   "metadata": {},
   "outputs": [
    {
     "data": {
      "text/plain": [
       "2.0"
      ]
     },
     "execution_count": 10,
     "metadata": {},
     "output_type": "execute_result"
    }
   ],
   "source": [
    "trivial_func(np.ones(4))"
   ]
  },
  {
   "cell_type": "markdown",
   "metadata": {},
   "source": [
    "The following code fails to compile because typed memoryviews are not Numpy arrays: you can't just broadcast values willy-nilly."
   ]
  },
  {
   "cell_type": "code",
   "execution_count": 11,
   "metadata": {},
   "outputs": [
    {
     "name": "stderr",
     "output_type": "stream",
     "text": [
      "\n",
      "Error compiling Cython file:\n",
      "------------------------------------------------------------\n",
      "...\n",
      "\n",
      "import numpy as np \n",
      "\n",
      "def typed_memoryiews_do_not_support_broadcasting(double[:] x):\n",
      "    cdef double[:] y = np.zeros(5, dtype='f8')\n",
      "    return x + y\n",
      "            ^\n",
      "------------------------------------------------------------\n",
      "\n",
      "/Users/aphearin/.ipython/cython/_cython_magic_d08a0720268602291a1b18f7c0b42fd8.pyx:6:13: Invalid operand types for '+' (double[:]; double[:])\n"
     ]
    }
   ],
   "source": [
    "%%cython \n",
    "\n",
    "import numpy as np \n",
    "\n",
    "def typed_memoryiews_do_not_support_broadcasting(double[:] x):\n",
    "    cdef double[:] y = np.zeros(5, dtype='f8')\n",
    "    return x + y"
   ]
  },
  {
   "cell_type": "markdown",
   "metadata": {},
   "source": [
    "The lack of support for features like broadcasting improves performance, but it can be awfully inconvenient. If you want to return x + y, you have to do it the old fashioned way:"
   ]
  },
  {
   "cell_type": "code",
   "execution_count": 12,
   "metadata": {
    "collapsed": true
   },
   "outputs": [],
   "source": [
    "%%cython \n",
    "\n",
    "import numpy as np \n",
    "\n",
    "def summing_x_and_y(double[:] x, double[:] y):\n",
    "    cdef int i\n",
    "    cdef int npts = len(y)\n",
    "    cdef double[:] result = np.zeros(npts, dtype='f8')\n",
    "    for i in range(npts):\n",
    "        result[i] = x[i] + y[i]\n",
    "    return result"
   ]
  },
  {
   "cell_type": "code",
   "execution_count": 13,
   "metadata": {},
   "outputs": [
    {
     "data": {
      "text/plain": [
       "<MemoryView of 'ndarray' at 0x115214ad0>"
      ]
     },
     "execution_count": 13,
     "metadata": {},
     "output_type": "execute_result"
    }
   ],
   "source": [
    "summing_x_and_y(np.random.rand(10), np.random.rand(10))"
   ]
  },
  {
   "cell_type": "markdown",
   "metadata": {},
   "source": [
    "Notice how the returned value of `summing_x_and_y` is actually a typed memoryview. Since working with Numpy arrays is so much more convenient, it's common to convert your typed memoryviews into Numpy arrays before going back to work in the python layer:"
   ]
  },
  {
   "cell_type": "code",
   "execution_count": 16,
   "metadata": {
    "collapsed": true
   },
   "outputs": [],
   "source": [
    "%%cython \n",
    "\n",
    "import numpy as np \n",
    "\n",
    "def summing_x_and_y_array_result(double[:] x, double[:] y):\n",
    "    cdef int i\n",
    "    cdef int npts = len(y)\n",
    "    cdef double[:] result = np.zeros(npts, dtype='f8')\n",
    "    for i in range(npts):\n",
    "        result[i] = x[i] + y[i]\n",
    "    return np.array(result)"
   ]
  },
  {
   "cell_type": "code",
   "execution_count": 17,
   "metadata": {},
   "outputs": [
    {
     "data": {
      "text/plain": [
       "array([ 1.08436463,  1.03691581,  0.09408212,  1.32359787,  0.40466598,\n",
       "        0.4570454 ,  1.33853085,  1.4845437 ,  1.12348052,  1.24053317])"
      ]
     },
     "execution_count": 17,
     "metadata": {},
     "output_type": "execute_result"
    }
   ],
   "source": [
    "summing_x_and_y_array_result(np.random.rand(10), np.random.rand(10))"
   ]
  },
  {
   "cell_type": "code",
   "execution_count": null,
   "metadata": {
    "collapsed": true
   },
   "outputs": [],
   "source": []
  }
 ],
 "metadata": {
  "kernelspec": {
   "display_name": "Python [conda root]",
   "language": "python",
   "name": "conda-root-py"
  },
  "language_info": {
   "codemirror_mode": {
    "name": "ipython",
    "version": 2
   },
   "file_extension": ".py",
   "mimetype": "text/x-python",
   "name": "python",
   "nbconvert_exporter": "python",
   "pygments_lexer": "ipython2",
   "version": "2.7.13"
  }
 },
 "nbformat": 4,
 "nbformat_minor": 2
}
