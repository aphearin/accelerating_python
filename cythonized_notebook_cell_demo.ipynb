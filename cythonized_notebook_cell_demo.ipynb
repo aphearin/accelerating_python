{
 "metadata": {
  "name": "",
  "signature": "sha256:e5589d064065cf461231746d00bc4b4b1ec5d02b9569b5e234b9b6695c813ca9"
 },
 "nbformat": 3,
 "nbformat_minor": 0,
 "worksheets": [
  {
   "cells": [
    {
     "cell_type": "code",
     "collapsed": false,
     "input": [
      "import numpy as np"
     ],
     "language": "python",
     "metadata": {},
     "outputs": [],
     "prompt_number": 1
    },
    {
     "cell_type": "code",
     "collapsed": false,
     "input": [
      "def simple_pairwise_sum_python(arr1, arr2):\n",
      "    npts1, npts2 = len(arr1), len(arr2)\n",
      "    result = np.zeros(npts1*npts2)\n",
      "\n",
      "    for i in range(0, npts1):\n",
      "        x = arr1[i]\n",
      "\n",
      "        for j in range(npts2):\n",
      "            y = arr2[j]\n",
      "\n",
      "            idx_result = i*npts2 + j\n",
      "            result[idx_result] = x + y\n",
      "\n",
      "    return result"
     ],
     "language": "python",
     "metadata": {},
     "outputs": [],
     "prompt_number": 12
    },
    {
     "cell_type": "code",
     "collapsed": false,
     "input": [
      "%load_ext cythonmagic"
     ],
     "language": "python",
     "metadata": {},
     "outputs": [],
     "prompt_number": 2
    },
    {
     "cell_type": "code",
     "collapsed": false,
     "input": [
      "%%cython\n",
      "import numpy as np # use import to get numpy functions\n",
      "cimport numpy as cnp # use cimport to get numpy types, naming as cnp for clarity\n",
      "\n",
      "cimport cython # only necessary for the performance-enhancing decorators\n",
      "\n",
      "@cython.boundscheck(False)\n",
      "@cython.wraparound(False)\n",
      "@cython.nonecheck(False)\n",
      "def simple_pairwise_sum_cython(arr1, arr2):\n",
      "\n",
      "    cdef int npts1 = len(arr1)\n",
      "    cdef int npts2 = len(arr2)\n",
      "\n",
      "    cdef cnp.float64_t[:] result = np.zeros(npts1*npts2, dtype=np.float64)\n",
      "\n",
      "    cdef cnp.float64_t[:] arr1_view = np.ascontiguousarray(arr1, dtype=np.float64)\n",
      "    cdef cnp.float64_t[:] arr2_view = np.ascontiguousarray(arr2, dtype=np.float64)\n",
      "\n",
      "    cdef int i, j, idx_result\n",
      "    cdef cnp.float64_t x, y\n",
      "\n",
      "    for i in range(0, npts1):\n",
      "        x = arr1_view[i]\n",
      "\n",
      "        for j in range(npts2):\n",
      "            y = arr2_view[j]\n",
      "\n",
      "            idx_result = i*npts2 + j\n",
      "            result[idx_result] = x + y\n",
      "\n",
      "    return np.array(result)"
     ],
     "language": "python",
     "metadata": {},
     "outputs": [],
     "prompt_number": 10
    },
    {
     "cell_type": "code",
     "collapsed": false,
     "input": [
      "npts = int(1e3)\n",
      "arr1 = np.random.random(npts)\n",
      "arr2 = np.random.random(npts)"
     ],
     "language": "python",
     "metadata": {},
     "outputs": [],
     "prompt_number": 7
    },
    {
     "cell_type": "code",
     "collapsed": false,
     "input": [
      "%timeit simple_pairwise_sum_python(arr1, arr2)"
     ],
     "language": "python",
     "metadata": {},
     "outputs": [
      {
       "output_type": "stream",
       "stream": "stdout",
       "text": [
        "1 loops, best of 3: 500 ms per loop\n"
       ]
      }
     ],
     "prompt_number": 8
    },
    {
     "cell_type": "code",
     "collapsed": false,
     "input": [
      "%timeit simple_pairwise_sum_cython(arr1, arr2)"
     ],
     "language": "python",
     "metadata": {},
     "outputs": [
      {
       "output_type": "stream",
       "stream": "stdout",
       "text": [
        "100 loops, best of 3: 5.71 ms per loop\n"
       ]
      }
     ],
     "prompt_number": 11
    },
    {
     "cell_type": "code",
     "collapsed": false,
     "input": [],
     "language": "python",
     "metadata": {},
     "outputs": []
    }
   ],
   "metadata": {}
  }
 ]
}