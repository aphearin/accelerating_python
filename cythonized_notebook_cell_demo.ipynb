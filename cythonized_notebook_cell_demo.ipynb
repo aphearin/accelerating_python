{
 "cells": [
  {
   "cell_type": "markdown",
   "metadata": {},
   "source": [
    "# Demo of how to compile/use Cython in a Notebook"
   ]
  },
  {
   "cell_type": "markdown",
   "metadata": {},
   "source": [
    "This notebook shows an alternative way to compile Cython directly in a Jupyter notebook. This saves you the trouble of needing to write a `setup.py` file, and is handy for prototyping code development before migrating to a module.\n",
    "\n",
    "These functions are identical to those appearing in the modules in this repo. They are copied-and-pasted here for clarity. Note that the modules have many explanations in the form of in-line comments; those comments are omitted here, so check the modules for further comments. "
   ]
  },
  {
   "cell_type": "code",
   "execution_count": 1,
   "metadata": {
    "collapsed": true
   },
   "outputs": [],
   "source": [
    "import numpy as np"
   ]
  },
  {
   "cell_type": "code",
   "execution_count": 2,
   "metadata": {
    "collapsed": true
   },
   "outputs": [],
   "source": [
    "def simple_pairwise_sum_python(arr1, arr2):\n",
    "    npts1, npts2 = len(arr1), len(arr2)\n",
    "    result = np.zeros(npts1*npts2)\n",
    "\n",
    "    for i in range(0, npts1):\n",
    "        x = arr1[i]\n",
    "\n",
    "        for j in range(npts2):\n",
    "            y = arr2[j]\n",
    "\n",
    "            idx_result = i*npts2 + j\n",
    "            result[idx_result] = x + y\n",
    "\n",
    "    return result"
   ]
  },
  {
   "cell_type": "markdown",
   "metadata": {},
   "source": [
    "To use Cython in a Jupyter notebook, you just need to add the following cell to your notebook, and then add the `%%cython` magic function at the beginning of any cell that compiles cython code. "
   ]
  },
  {
   "cell_type": "code",
   "execution_count": 3,
   "metadata": {},
   "outputs": [],
   "source": [
    "%load_ext Cython"
   ]
  },
  {
   "cell_type": "code",
   "execution_count": 4,
   "metadata": {
    "collapsed": true
   },
   "outputs": [],
   "source": [
    "%%cython\n",
    "import numpy as np \n",
    "cimport cython \n",
    "\n",
    "@cython.boundscheck(False)\n",
    "@cython.wraparound(False)\n",
    "@cython.nonecheck(False)\n",
    "def simple_pairwise_sum_cython(double[:] arr1, double[:] arr2):\n",
    "\n",
    "    cdef int npts1 = len(arr1)\n",
    "    cdef int npts2 = len(arr2)\n",
    "\n",
    "    cdef double[:] result = np.zeros(npts1*npts2, dtype=np.float64)\n",
    "\n",
    "    cdef int i, j, idx_result\n",
    "    cdef double x, y\n",
    "\n",
    "    for i in range(0, npts1):\n",
    "        x = arr1[i]\n",
    "\n",
    "        for j in range(npts2):\n",
    "            y = arr2[j]\n",
    "\n",
    "            idx_result = i*npts2 + j\n",
    "            result[idx_result] = x + y\n",
    "\n",
    "    return np.array(result)"
   ]
  },
  {
   "cell_type": "markdown",
   "metadata": {},
   "source": [
    "### Create some fake data to demonstrate usage"
   ]
  },
  {
   "cell_type": "code",
   "execution_count": 5,
   "metadata": {
    "collapsed": true
   },
   "outputs": [],
   "source": [
    "npts = int(1e3)\n",
    "arr1 = np.random.random(npts)\n",
    "arr2 = np.random.random(npts)"
   ]
  },
  {
   "cell_type": "markdown",
   "metadata": {},
   "source": [
    "### Demonstrate equivalence of cython vs. cython"
   ]
  },
  {
   "cell_type": "code",
   "execution_count": 8,
   "metadata": {},
   "outputs": [
    {
     "data": {
      "text/plain": [
       "True"
      ]
     },
     "execution_count": 8,
     "metadata": {},
     "output_type": "execute_result"
    }
   ],
   "source": [
    "np.all(simple_pairwise_sum_python(arr1, arr2) == simple_pairwise_sum_cython(arr1, arr2))"
   ]
  },
  {
   "cell_type": "markdown",
   "metadata": {},
   "source": [
    "### Demonstrate performance enhancement"
   ]
  },
  {
   "cell_type": "code",
   "execution_count": 11,
   "metadata": {},
   "outputs": [
    {
     "name": "stdout",
     "output_type": "stream",
     "text": [
      "1 loop, best of 3: 541 ms per loop\n"
     ]
    }
   ],
   "source": [
    "%timeit simple_pairwise_sum_python(arr1, arr2)"
   ]
  },
  {
   "cell_type": "code",
   "execution_count": 12,
   "metadata": {},
   "outputs": [
    {
     "name": "stdout",
     "output_type": "stream",
     "text": [
      "100 loops, best of 3: 9.05 ms per loop\n"
     ]
    }
   ],
   "source": [
    "%timeit simple_pairwise_sum_cython(arr1, arr2)"
   ]
  },
  {
   "cell_type": "code",
   "execution_count": null,
   "metadata": {
    "collapsed": true
   },
   "outputs": [],
   "source": []
  }
 ],
 "metadata": {
  "anaconda-cloud": {},
  "kernelspec": {
   "display_name": "Python [default]",
   "language": "python",
   "name": "python2"
  },
  "language_info": {
   "codemirror_mode": {
    "name": "ipython",
    "version": 2
   },
   "file_extension": ".py",
   "mimetype": "text/x-python",
   "name": "python",
   "nbconvert_exporter": "python",
   "pygments_lexer": "ipython2",
   "version": "2.7.13"
  }
 },
 "nbformat": 4,
 "nbformat_minor": 1
}
