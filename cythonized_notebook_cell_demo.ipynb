{
 "cells": [
  {
   "cell_type": "code",
   "execution_count": 4,
   "metadata": {
    "collapsed": true
   },
   "outputs": [],
   "source": [
    "import numpy as np"
   ]
  },
  {
   "cell_type": "code",
   "execution_count": 5,
   "metadata": {
    "collapsed": true
   },
   "outputs": [],
   "source": [
    "def simple_pairwise_sum_python(arr1, arr2):\n",
    "    npts1, npts2 = len(arr1), len(arr2)\n",
    "    result = np.zeros(npts1*npts2)\n",
    "\n",
    "    for i in range(0, npts1):\n",
    "        x = arr1[i]\n",
    "\n",
    "        for j in range(npts2):\n",
    "            y = arr2[j]\n",
    "\n",
    "            idx_result = i*npts2 + j\n",
    "            result[idx_result] = x + y\n",
    "\n",
    "    return result"
   ]
  },
  {
   "cell_type": "code",
   "execution_count": 6,
   "metadata": {},
   "outputs": [
    {
     "name": "stdout",
     "output_type": "stream",
     "text": [
      "The Cython extension is already loaded. To reload it, use:\n",
      "  %reload_ext Cython\n"
     ]
    }
   ],
   "source": [
    "%load_ext Cython"
   ]
  },
  {
   "cell_type": "code",
   "execution_count": 7,
   "metadata": {
    "collapsed": true
   },
   "outputs": [],
   "source": [
    "%%cython\n",
    "import numpy as np # use import to get numpy functions\n",
    "cimport numpy as cnp # use cimport to get numpy types, naming as cnp for clarity\n",
    "\n",
    "cimport cython # only necessary for the performance-enhancing decorators\n",
    "\n",
    "@cython.boundscheck(False)\n",
    "@cython.wraparound(False)\n",
    "@cython.nonecheck(False)\n",
    "def simple_pairwise_sum_cython(arr1, arr2):\n",
    "\n",
    "    cdef int npts1 = len(arr1)\n",
    "    cdef int npts2 = len(arr2)\n",
    "\n",
    "    cdef cnp.float64_t[:] result = np.zeros(npts1*npts2, dtype=np.float64)\n",
    "\n",
    "    cdef cnp.float64_t[:] arr1_view = np.ascontiguousarray(arr1, dtype=np.float64)\n",
    "    cdef cnp.float64_t[:] arr2_view = np.ascontiguousarray(arr2, dtype=np.float64)\n",
    "\n",
    "    cdef int i, j, idx_result\n",
    "    cdef cnp.float64_t x, y\n",
    "\n",
    "    for i in range(0, npts1):\n",
    "        x = arr1_view[i]\n",
    "\n",
    "        for j in range(npts2):\n",
    "            y = arr2_view[j]\n",
    "\n",
    "            idx_result = i*npts2 + j\n",
    "            result[idx_result] = x + y\n",
    "\n",
    "    return np.array(result)"
   ]
  },
  {
   "cell_type": "code",
   "execution_count": 8,
   "metadata": {
    "collapsed": true
   },
   "outputs": [],
   "source": [
    "npts = int(1e3)\n",
    "arr1 = np.random.random(npts)\n",
    "arr2 = np.random.random(npts)"
   ]
  },
  {
   "cell_type": "code",
   "execution_count": 9,
   "metadata": {},
   "outputs": [
    {
     "name": "stdout",
     "output_type": "stream",
     "text": [
      "1 loop, best of 3: 512 ms per loop\n"
     ]
    }
   ],
   "source": [
    "%timeit simple_pairwise_sum_python(arr1, arr2)"
   ]
  },
  {
   "cell_type": "code",
   "execution_count": 10,
   "metadata": {},
   "outputs": [
    {
     "name": "stdout",
     "output_type": "stream",
     "text": [
      "100 loops, best of 3: 9.02 ms per loop\n"
     ]
    }
   ],
   "source": [
    "%timeit simple_pairwise_sum_cython(arr1, arr2)"
   ]
  },
  {
   "cell_type": "code",
   "execution_count": null,
   "metadata": {
    "collapsed": true
   },
   "outputs": [],
   "source": []
  }
 ],
 "metadata": {
  "anaconda-cloud": {},
  "kernelspec": {
   "display_name": "Python [default]",
   "language": "python",
   "name": "python2"
  },
  "language_info": {
   "codemirror_mode": {
    "name": "ipython",
    "version": 2
   },
   "file_extension": ".py",
   "mimetype": "text/x-python",
   "name": "python",
   "nbconvert_exporter": "python",
   "pygments_lexer": "ipython2",
   "version": "2.7.13"
  }
 },
 "nbformat": 4,
 "nbformat_minor": 1
}
